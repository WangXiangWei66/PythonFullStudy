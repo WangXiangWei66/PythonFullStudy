{
 "cells": [
  {
   "cell_type": "markdown",
   "metadata": {},
   "source": [
    "\n",
    "## 一、启动程序\n"
   ]
  },
  {
   "cell_type": "markdown",
   "metadata": {},
   "source": [
    "\n",
    "\n",
    "\n",
    "执行以下命令：\n",
    ">jupyter notebook\n",
    "\n",
    "[NotebookApp] Serving notebooks from local directory: /home/nanfengpo\n",
    "\n",
    "[NotebookApp] 0 active kernels \n",
    "\n",
    "[NotebookApp] The IPython Notebook is running at: http://localhost:8888/\n",
    "\n",
    "[NotebookApp] Use Control-C to stop this server and shut down all kernels (twice to skip confirmation).\n",
    "\n",
    "注意以下几点：\n",
    "- 打开地址为当前bash的目录，默认的根目录\n",
    "- 浏览器地址为http://localhost:8888/\n",
    "- 通过control -C终止jupyter程序"
   ]
  },
  {
   "cell_type": "markdown",
   "metadata": {},
   "source": [
    "几个基本操作：\n",
    "- 双击D：删除当前cell\n",
    "- 单击M：转为markdown文档\n",
    "- markdown文档下运行变为预览模式\n",
    "- 按z可以把删除的cell还原"
   ]
  },
  {
   "cell_type": "markdown",
   "metadata": {},
   "source": [
    "## 二、IPython的帮助文档"
   ]
  },
  {
   "cell_type": "markdown",
   "metadata": {},
   "source": [
    "### 1. 使用help()"
   ]
  },
  {
   "cell_type": "markdown",
   "metadata": {},
   "source": [
    "通过以下命令来获得帮助文档：\n",
    ">help(len)\n",
    "\n",
    "Help on built-in function len in module builtins:\n",
    "\n",
    "len(obj, /)\n",
    "    Return the number of items in a container."
   ]
  },
  {
   "cell_type": "code",
   "execution_count": 2,
   "metadata": {
    "ExecuteTime": {
     "end_time": "2023-05-24T12:43:43.521604Z",
     "start_time": "2023-05-24T12:43:43.501656Z"
    }
   },
   "outputs": [
    {
     "name": "stdout",
     "output_type": "stream",
     "text": [
      "Help on built-in function len in module builtins:\n",
      "\n",
      "len(obj, /)\n",
      "    Return the number of items in a container.\n",
      "\n"
     ]
    }
   ],
   "source": [
    "help(len)"
   ]
  },
  {
   "cell_type": "markdown",
   "metadata": {},
   "source": [
    "### 2. 使用?"
   ]
  },
  {
   "cell_type": "markdown",
   "metadata": {},
   "source": [
    "或者使用问号：\n",
    ">len?"
   ]
  },
  {
   "cell_type": "code",
   "execution_count": 3,
   "metadata": {
    "ExecuteTime": {
     "end_time": "2023-05-24T12:44:18.732299Z",
     "start_time": "2023-05-24T12:44:18.687417Z"
    },
    "scrolled": true
   },
   "outputs": [
    {
     "data": {
      "text/plain": [
       "\u001b[31mSignature:\u001b[39m len(obj, /)\n",
       "\u001b[31mDocstring:\u001b[39m Return the number of items in a container.\n",
       "\u001b[31mType:\u001b[39m      builtin_function_or_method"
      ]
     },
     "metadata": {},
     "output_type": "display_data"
    }
   ],
   "source": [
    "len?"
   ]
  },
  {
   "cell_type": "markdown",
   "metadata": {},
   "source": [
    "还可以应用到自定义的变量和自定义的函数上来返回帮助文档\n",
    "\n",
    "此外，使用两个??可以把函数的源代码显示出来"
   ]
  },
  {
   "cell_type": "code",
   "execution_count": 4,
   "metadata": {
    "ExecuteTime": {
     "end_time": "2023-05-24T12:45:02.724773Z",
     "start_time": "2023-05-24T12:45:02.720784Z"
    }
   },
   "outputs": [],
   "source": [
    "def add(a, b):\n",
    "    return a + b"
   ]
  },
  {
   "cell_type": "code",
   "execution_count": 5,
   "metadata": {
    "ExecuteTime": {
     "end_time": "2023-05-24T12:44:48.358999Z",
     "start_time": "2023-05-24T12:44:48.344039Z"
    }
   },
   "outputs": [
    {
     "data": {
      "text/plain": [
       "\u001b[31mSignature:\u001b[39m len(obj, /)\n",
       "\u001b[31mDocstring:\u001b[39m Return the number of items in a container.\n",
       "\u001b[31mType:\u001b[39m      builtin_function_or_method"
      ]
     },
     "metadata": {},
     "output_type": "display_data"
    }
   ],
   "source": [
    "len??"
   ]
  },
  {
   "cell_type": "code",
   "execution_count": 6,
   "metadata": {
    "ExecuteTime": {
     "end_time": "2023-05-24T12:49:42.663179Z",
     "start_time": "2023-05-24T12:49:42.647221Z"
    }
   },
   "outputs": [
    {
     "name": "stdout",
     "output_type": "stream",
     "text": [
      "hello\n"
     ]
    }
   ],
   "source": [
    "print('hello')"
   ]
  },
  {
   "cell_type": "markdown",
   "metadata": {},
   "source": [
    "### 3. tab自动补全"
   ]
  },
  {
   "cell_type": "markdown",
   "metadata": {},
   "source": [
    "敲击tab键能自动补全\n",
    ">L.<TAB>"
   ]
  },
  {
   "cell_type": "code",
   "execution_count": 7,
   "metadata": {},
   "outputs": [],
   "source": [
    "import numpy"
   ]
  },
  {
   "cell_type": "markdown",
   "metadata": {},
   "source": [
    "也可以在import的时候自动补全\n",
    ">import nu<TAB>"
   ]
  },
  {
   "cell_type": "markdown",
   "metadata": {
    "collapsed": true,
    "jupyter": {
     "outputs_hidden": true
    }
   },
   "source": [
    "## 三、IPython魔法命令"
   ]
  },
  {
   "cell_type": "markdown",
   "metadata": {},
   "source": [
    "### 1. 运行外部Python文件"
   ]
  },
  {
   "cell_type": "markdown",
   "metadata": {},
   "source": [
    "使用下面命令运行外部python文件（默认是当前目录，最好加上绝对路径）\n",
    "> %run *.py\n",
    "    \n",
    "例如在当前目录下有一个myscript.py文件：\n",
    "\n",
    "def square(x):\n",
    "    \"\"\"square a number\"\"\"\n",
    "    return x ** 2\n",
    "\n",
    "for N in range(1, 4):\n",
    "    print(N, \"squared is\", square(N))\n"
   ]
  },
  {
   "cell_type": "markdown",
   "metadata": {},
   "source": [
    "我们可以通过下面命令执行它：\n",
    "> %run myscript.py"
   ]
  },
  {
   "cell_type": "code",
   "execution_count": 8,
   "metadata": {
    "ExecuteTime": {
     "end_time": "2023-05-24T12:56:05.340848Z",
     "start_time": "2023-05-24T12:56:05.325887Z"
    }
   },
   "outputs": [
    {
     "name": "stdout",
     "output_type": "stream",
     "text": [
      "1 squared is 1\n",
      "2 squared is 4\n",
      "3 squared is 9\n"
     ]
    }
   ],
   "source": [
    "%run myscript.py"
   ]
  },
  {
   "cell_type": "code",
   "execution_count": 9,
   "metadata": {
    "ExecuteTime": {
     "end_time": "2023-05-24T12:59:04.980199Z",
     "start_time": "2023-05-24T12:59:04.966238Z"
    },
    "scrolled": true
   },
   "outputs": [
    {
     "name": "stdout",
     "output_type": "stream",
     "text": [
      "1 squared is 1\n",
      "2 squared is 4\n",
      "3 squared is 9\n"
     ]
    }
   ],
   "source": [
    "# 相对路径, 绝对路径. \n",
    "%run ./myscript.py"
   ]
  },
  {
   "cell_type": "code",
   "execution_count": null,
   "metadata": {},
   "outputs": [],
   "source": [
    "path = r''"
   ]
  },
  {
   "cell_type": "markdown",
   "metadata": {},
   "source": [
    "尤其要注意的是，当我们使用魔法命令执行了一个外部文件时，该文件的函数就能在当前会话中使用\n",
    ">square(5)"
   ]
  },
  {
   "cell_type": "code",
   "execution_count": null,
   "metadata": {
    "ExecuteTime": {
     "end_time": "2023-05-24T13:01:13.206943Z",
     "start_time": "2023-05-24T13:01:13.192979Z"
    }
   },
   "outputs": [],
   "source": [
    "square(5)"
   ]
  },
  {
   "cell_type": "code",
   "execution_count": null,
   "metadata": {
    "ExecuteTime": {
     "end_time": "2023-05-24T13:01:20.316930Z",
     "start_time": "2023-05-24T13:01:20.303965Z"
    }
   },
   "outputs": [],
   "source": [
    "square??"
   ]
  },
  {
   "cell_type": "markdown",
   "metadata": {},
   "source": [
    "### 2. 运行计时"
   ]
  },
  {
   "cell_type": "markdown",
   "metadata": {
    "collapsed": true,
    "jupyter": {
     "outputs_hidden": true
    }
   },
   "source": [
    "用下面命令计算statement的运行时间：\n",
    "> %time statement\n"
   ]
  },
  {
   "cell_type": "code",
   "execution_count": null,
   "metadata": {
    "ExecuteTime": {
     "end_time": "2023-05-24T13:16:55.342106Z",
     "start_time": "2023-05-24T13:16:55.323156Z"
    }
   },
   "outputs": [],
   "source": [
    "%time sum([i for i in range(100000)])"
   ]
  },
  {
   "cell_type": "markdown",
   "metadata": {},
   "source": [
    "用下面命令计算statement的平均运行时间：   \n",
    "> %timeit statement\n",
    "\n",
    "timeit会多次运行statement，最后得到一个更为精准的预期运行时间"
   ]
  },
  {
   "cell_type": "code",
   "execution_count": null,
   "metadata": {
    "ExecuteTime": {
     "end_time": "2023-05-24T13:18:28.344509Z",
     "start_time": "2023-05-24T13:18:24.096360Z"
    },
    "scrolled": true
   },
   "outputs": [],
   "source": [
    "# it = iteration  迭代\n",
    "%timeit sum([i for i in range(100000)])"
   ]
  },
  {
   "cell_type": "markdown",
   "metadata": {},
   "source": [
    "可以使用两个百分号来测试多行代码的平均运行时间：\n",
    "\n",
    "`\n",
    "%%timeit\n",
    "\n",
    "statement1\n",
    "\n",
    "statement2\n",
    "\n",
    "statement3\n",
    "\n",
    "`"
   ]
  },
  {
   "cell_type": "code",
   "execution_count": null,
   "metadata": {
    "ExecuteTime": {
     "end_time": "2023-05-24T13:20:30.075295Z",
     "start_time": "2023-05-24T13:20:25.715535Z"
    },
    "scrolled": true
   },
   "outputs": [],
   "source": [
    "%%timeit\n",
    "sum([i for i in range(100000)])\n",
    "square(100000)"
   ]
  },
  {
   "cell_type": "code",
   "execution_count": null,
   "metadata": {
    "ExecuteTime": {
     "end_time": "2023-05-24T13:21:20.072945Z",
     "start_time": "2023-05-24T13:21:20.066961Z"
    }
   },
   "outputs": [],
   "source": [
    "import time"
   ]
  },
  {
   "cell_type": "code",
   "execution_count": null,
   "metadata": {
    "ExecuteTime": {
     "end_time": "2023-05-24T13:22:04.403923Z",
     "start_time": "2023-05-24T13:22:04.383976Z"
    }
   },
   "outputs": [],
   "source": [
    "start = time.time()\n",
    "%run myscript.py\n",
    "end = time.time()\n",
    "print(f'花费时间: {end - start}')\n"
   ]
  },
  {
   "cell_type": "markdown",
   "metadata": {},
   "source": [
    "记住：\n",
    "- %time一般用于耗时长的代码段\n",
    "- %timeit一般用于耗时短的代码段"
   ]
  },
  {
   "cell_type": "markdown",
   "metadata": {},
   "source": [
    "### 3. 查看当前会话中的所有变量与函数"
   ]
  },
  {
   "cell_type": "markdown",
   "metadata": {},
   "source": [
    "快速查看当前会话的所有变量与函数名称：\n",
    ">%who"
   ]
  },
  {
   "cell_type": "code",
   "execution_count": 12,
   "metadata": {
    "ExecuteTime": {
     "end_time": "2023-05-24T13:22:43.760479Z",
     "start_time": "2023-05-24T13:22:43.742526Z"
    }
   },
   "outputs": [
    {
     "name": "stdout",
     "output_type": "stream",
     "text": [
      "N\t add\t numpy\t square\t \n"
     ]
    }
   ],
   "source": [
    "%who"
   ]
  },
  {
   "cell_type": "markdown",
   "metadata": {},
   "source": [
    "查看当前会话的所有变量与函数名称的详细信息：\n",
    ">%whos"
   ]
  },
  {
   "cell_type": "code",
   "execution_count": 13,
   "metadata": {
    "ExecuteTime": {
     "end_time": "2023-05-24T13:23:02.350464Z",
     "start_time": "2023-05-24T13:23:02.340489Z"
    }
   },
   "outputs": [
    {
     "name": "stdout",
     "output_type": "stream",
     "text": [
      "Variable   Type        Data/Info\n",
      "--------------------------------\n",
      "N          int         3\n",
      "add        function    <function add at 0x0000018773285DA0>\n",
      "numpy      module      <module 'numpy' from 'D:\\<...>ges\\\\numpy\\\\__init__.py'>\n",
      "square     function    <function square at 0x000001877F5AA5C0>\n"
     ]
    }
   ],
   "source": [
    "%whos"
   ]
  },
  {
   "cell_type": "markdown",
   "metadata": {},
   "source": [
    "返回一个字符串列表，里面元素是当前会话的所有变量与函数名称：\n",
    ">%who_ls"
   ]
  },
  {
   "cell_type": "code",
   "execution_count": null,
   "metadata": {
    "ExecuteTime": {
     "end_time": "2023-05-24T13:23:25.661299Z",
     "start_time": "2023-05-24T13:23:25.652281Z"
    }
   },
   "outputs": [],
   "source": [
    "%who_ls"
   ]
  },
  {
   "cell_type": "code",
   "execution_count": null,
   "metadata": {
    "ExecuteTime": {
     "end_time": "2023-05-24T13:23:51.129659Z",
     "start_time": "2023-05-24T13:23:51.117691Z"
    }
   },
   "outputs": [],
   "source": [
    "%magic"
   ]
  },
  {
   "cell_type": "markdown",
   "metadata": {},
   "source": [
    "### 4. 执行系统指令"
   ]
  },
  {
   "cell_type": "markdown",
   "metadata": {},
   "source": [
    "Linux指令：\n",
    "\n",
    "$ echo \"hello world\"             # echo is like Python's print function\n",
    "hello world\n",
    "\n",
    "$ pwd                            # pwd = print working directory\n",
    "/home/jake                             # this is the \"path\" that we're sitting in\n",
    "\n",
    "$ ls                             # ls = list working directory contents\n",
    "notebooks  projects \n",
    "\n",
    "\n",
    "$ mkdir mm\n",
    "/home/jake/projects\n",
    "\n",
    "$touch txt\n",
    "!touch /home/nanfengpo/Desktop/xx/hello.txt\n",
    "\n",
    "在Linux指令之前加上  <font size = 5 color = green>!</font>，即可在ipython当中执行Linux指令。\n",
    "\n",
    "注意会将标准输出以字符串形式返回"
   ]
  },
  {
   "cell_type": "code",
   "execution_count": 14,
   "metadata": {
    "ExecuteTime": {
     "end_time": "2023-05-24T13:26:57.186492Z",
     "start_time": "2023-05-24T13:26:57.139324Z"
    }
   },
   "outputs": [
    {
     "name": "stdout",
     "output_type": "stream",
     "text": [
      " 驱动器 D 中的卷是 Data\n",
      " 卷的序列号是 5432-1790\n",
      "\n",
      " D:\\python__study\\111\\day01\\代码 的目录\n",
      "\n",
      "2025/06/13  14:46    <DIR>          .\n",
      "2025/06/13  14:46    <DIR>          ..\n",
      "2025/06/13  14:45    <DIR>          .ipynb_checkpoints\n",
      "2025/04/13  12:38            65,874 cat.jpg\n",
      "2025/04/13  12:38             1,622 exercise-第1天.txt\n",
      "2025/06/13  14:46            19,521 IPython.ipynb\n",
      "2025/04/13  12:38               119 myscript.py\n",
      "2025/04/14  11:45            53,095 numpy.ipynb\n",
      "2025/04/13  12:38               988 president_heights.csv\n",
      "               6 个文件        141,219 字节\n",
      "               3 个目录 231,740,919,808 可用字节\n"
     ]
    }
   ],
   "source": [
    "!dir"
   ]
  },
  {
   "cell_type": "code",
   "execution_count": null,
   "metadata": {
    "ExecuteTime": {
     "end_time": "2023-05-24T13:28:13.932714Z",
     "start_time": "2023-05-24T13:28:11.614548Z"
    }
   },
   "outputs": [],
   "source": [
    "# 可以通过这种方式, 使用pip安装包\n",
    "!pip install pillow -i https://pypi.douban.com/simle"
   ]
  },
  {
   "cell_type": "markdown",
   "metadata": {},
   "source": [
    "### 5. 更多魔法命令"
   ]
  },
  {
   "cell_type": "markdown",
   "metadata": {},
   "source": [
    "列出所有魔法命令\n",
    ">lsmagic"
   ]
  },
  {
   "cell_type": "code",
   "execution_count": 15,
   "metadata": {
    "ExecuteTime": {
     "end_time": "2023-05-24T13:28:57.374148Z",
     "start_time": "2023-05-24T13:28:57.355198Z"
    }
   },
   "outputs": [
    {
     "data": {
      "application/json": {
       "cell": {
        "!": "OSMagics",
        "HTML": "Other",
        "SVG": "Other",
        "bash": "Other",
        "capture": "ExecutionMagics",
        "cmd": "Other",
        "code_wrap": "ExecutionMagics",
        "debug": "ExecutionMagics",
        "file": "Other",
        "html": "DisplayMagics",
        "javascript": "DisplayMagics",
        "js": "DisplayMagics",
        "latex": "DisplayMagics",
        "markdown": "DisplayMagics",
        "perl": "Other",
        "prun": "ExecutionMagics",
        "pypy": "Other",
        "python": "Other",
        "python2": "Other",
        "python3": "Other",
        "ruby": "Other",
        "script": "ScriptMagics",
        "sh": "Other",
        "svg": "DisplayMagics",
        "sx": "OSMagics",
        "system": "OSMagics",
        "time": "ExecutionMagics",
        "timeit": "ExecutionMagics",
        "writefile": "OSMagics"
       },
       "line": {
        "alias": "OSMagics",
        "alias_magic": "BasicMagics",
        "autoawait": "AsyncMagics",
        "autocall": "AutoMagics",
        "automagic": "AutoMagics",
        "autosave": "KernelMagics",
        "bookmark": "OSMagics",
        "cd": "OSMagics",
        "clear": "KernelMagics",
        "cls": "KernelMagics",
        "code_wrap": "ExecutionMagics",
        "colors": "BasicMagics",
        "conda": "PackagingMagics",
        "config": "ConfigMagics",
        "connect_info": "KernelMagics",
        "copy": "Other",
        "ddir": "Other",
        "debug": "ExecutionMagics",
        "dhist": "OSMagics",
        "dirs": "OSMagics",
        "doctest_mode": "BasicMagics",
        "echo": "Other",
        "ed": "Other",
        "edit": "KernelMagics",
        "env": "OSMagics",
        "gui": "BasicMagics",
        "hist": "Other",
        "history": "HistoryMagics",
        "killbgscripts": "ScriptMagics",
        "ldir": "Other",
        "less": "KernelMagics",
        "load": "CodeMagics",
        "load_ext": "ExtensionMagics",
        "loadpy": "CodeMagics",
        "logoff": "LoggingMagics",
        "logon": "LoggingMagics",
        "logstart": "LoggingMagics",
        "logstate": "LoggingMagics",
        "logstop": "LoggingMagics",
        "ls": "Other",
        "lsmagic": "BasicMagics",
        "macro": "ExecutionMagics",
        "magic": "BasicMagics",
        "mamba": "PackagingMagics",
        "matplotlib": "PylabMagics",
        "micromamba": "PackagingMagics",
        "mkdir": "Other",
        "more": "KernelMagics",
        "notebook": "BasicMagics",
        "page": "BasicMagics",
        "pastebin": "CodeMagics",
        "pdb": "ExecutionMagics",
        "pdef": "NamespaceMagics",
        "pdoc": "NamespaceMagics",
        "pfile": "NamespaceMagics",
        "pinfo": "NamespaceMagics",
        "pinfo2": "NamespaceMagics",
        "pip": "PackagingMagics",
        "popd": "OSMagics",
        "pprint": "BasicMagics",
        "precision": "BasicMagics",
        "prun": "ExecutionMagics",
        "psearch": "NamespaceMagics",
        "psource": "NamespaceMagics",
        "pushd": "OSMagics",
        "pwd": "OSMagics",
        "pycat": "OSMagics",
        "pylab": "PylabMagics",
        "qtconsole": "KernelMagics",
        "quickref": "BasicMagics",
        "recall": "HistoryMagics",
        "rehashx": "OSMagics",
        "reload_ext": "ExtensionMagics",
        "ren": "Other",
        "rep": "Other",
        "rerun": "HistoryMagics",
        "reset": "NamespaceMagics",
        "reset_selective": "NamespaceMagics",
        "rmdir": "Other",
        "run": "ExecutionMagics",
        "save": "CodeMagics",
        "sc": "OSMagics",
        "set_env": "OSMagics",
        "store": "StoreMagics",
        "sx": "OSMagics",
        "system": "OSMagics",
        "tb": "ExecutionMagics",
        "time": "ExecutionMagics",
        "timeit": "ExecutionMagics",
        "unalias": "OSMagics",
        "unload_ext": "ExtensionMagics",
        "uv": "PackagingMagics",
        "who": "NamespaceMagics",
        "who_ls": "NamespaceMagics",
        "whos": "NamespaceMagics",
        "xdel": "NamespaceMagics",
        "xmode": "BasicMagics"
       }
      },
      "text/plain": [
       "Available line magics:\n",
       "%alias  %alias_magic  %autoawait  %autocall  %automagic  %autosave  %bookmark  %cd  %clear  %cls  %code_wrap  %colors  %conda  %config  %connect_info  %copy  %ddir  %debug  %dhist  %dirs  %doctest_mode  %echo  %ed  %edit  %env  %gui  %hist  %history  %killbgscripts  %ldir  %less  %load  %load_ext  %loadpy  %logoff  %logon  %logstart  %logstate  %logstop  %ls  %lsmagic  %macro  %magic  %mamba  %matplotlib  %micromamba  %mkdir  %more  %notebook  %page  %pastebin  %pdb  %pdef  %pdoc  %pfile  %pinfo  %pinfo2  %pip  %popd  %pprint  %precision  %prun  %psearch  %psource  %pushd  %pwd  %pycat  %pylab  %qtconsole  %quickref  %recall  %rehashx  %reload_ext  %ren  %rep  %rerun  %reset  %reset_selective  %rmdir  %run  %save  %sc  %set_env  %store  %sx  %system  %tb  %time  %timeit  %unalias  %unload_ext  %uv  %who  %who_ls  %whos  %xdel  %xmode\n",
       "\n",
       "Available cell magics:\n",
       "%%!  %%HTML  %%SVG  %%bash  %%capture  %%cmd  %%code_wrap  %%debug  %%file  %%html  %%javascript  %%js  %%latex  %%markdown  %%perl  %%prun  %%pypy  %%python  %%python2  %%python3  %%ruby  %%script  %%sh  %%svg  %%sx  %%system  %%time  %%timeit  %%writefile\n",
       "\n",
       "Automagic is ON, % prefix IS NOT needed for line magics."
      ]
     },
     "execution_count": 15,
     "metadata": {},
     "output_type": "execute_result"
    }
   ],
   "source": [
    "lsmagic"
   ]
  },
  {
   "cell_type": "markdown",
   "metadata": {},
   "source": [
    "查看魔法命令的文档:\n",
    "使用?"
   ]
  },
  {
   "cell_type": "code",
   "execution_count": 16,
   "metadata": {
    "ExecuteTime": {
     "end_time": "2023-05-24T13:29:17.271295Z",
     "start_time": "2023-05-24T13:29:17.253342Z"
    },
    "scrolled": true
   },
   "outputs": [
    {
     "data": {
      "text/plain": [
       "\u001b[31mDocstring:\u001b[39m\n",
       "Define an alias for a system command.\n",
       "\n",
       "'%alias alias_name cmd' defines 'alias_name' as an alias for 'cmd'\n",
       "\n",
       "Then, typing 'alias_name params' will execute the system command 'cmd\n",
       "params' (from your underlying operating system).\n",
       "\n",
       "Aliases have lower precedence than magic functions and Python normal\n",
       "variables, so if 'foo' is both a Python variable and an alias, the\n",
       "alias can not be executed until 'del foo' removes the Python variable.\n",
       "\n",
       "You can use the %l specifier in an alias definition to represent the\n",
       "whole line when the alias is called.  For example::\n",
       "\n",
       "  In [2]: alias bracket echo \"Input in brackets: <%l>\"\n",
       "  In [3]: bracket hello world\n",
       "  Input in brackets: <hello world>\n",
       "\n",
       "You can also define aliases with parameters using %s specifiers (one\n",
       "per parameter)::\n",
       "\n",
       "  In [1]: alias parts echo first %s second %s\n",
       "  In [2]: %parts A B\n",
       "  first A second B\n",
       "  In [3]: %parts A\n",
       "  Incorrect number of arguments: 2 expected.\n",
       "  parts is an alias to: 'echo first %s second %s'\n",
       "\n",
       "Note that %l and %s are mutually exclusive.  You can only use one or\n",
       "the other in your aliases.\n",
       "\n",
       "Aliases expand Python variables just like system calls using ! or !!\n",
       "do: all expressions prefixed with '$' get expanded.  For details of\n",
       "the semantic rules, see PEP-215:\n",
       "https://peps.python.org/pep-0215/.  This is the library used by\n",
       "IPython for variable expansion.  If you want to access a true shell\n",
       "variable, an extra $ is necessary to prevent its expansion by\n",
       "IPython::\n",
       "\n",
       "  In [6]: alias show echo\n",
       "  In [7]: PATH='A Python string'\n",
       "  In [8]: show $PATH\n",
       "  A Python string\n",
       "  In [9]: show $$PATH\n",
       "  /usr/local/lf9560/bin:/usr/local/intel/compiler70/ia32/bin:...\n",
       "\n",
       "You can use the alias facility to access all of $PATH.  See the %rehashx\n",
       "function, which automatically creates aliases for the contents of your\n",
       "$PATH.\n",
       "\n",
       "If called with no parameters, %alias prints the current alias table\n",
       "for your system.  For posix systems, the default aliases are 'cat',\n",
       "'cp', 'mv', 'rm', 'rmdir', and 'mkdir', and other platform-specific\n",
       "aliases are added.  For windows-based systems, the default aliases are\n",
       "'copy', 'ddir', 'echo', 'ls', 'ldir', 'mkdir', 'ren', and 'rmdir'.\n",
       "\n",
       "You can see the definition of alias by adding a question mark in the\n",
       "end::\n",
       "\n",
       "  In [1]: cat?\n",
       "  Repr: <alias cat for 'cat'>\n",
       "\u001b[31mFile:\u001b[39m      d:\\venv\\lib\\site-packages\\ipython\\core\\magics\\osm.py"
      ]
     },
     "metadata": {},
     "output_type": "display_data"
    }
   ],
   "source": [
    "alias?"
   ]
  },
  {
   "cell_type": "markdown",
   "metadata": {
    "collapsed": true,
    "jupyter": {
     "outputs_hidden": true
    }
   },
   "source": [
    "## 四、notebook的快捷键"
   ]
  },
  {
   "cell_type": "markdown",
   "metadata": {},
   "source": [
    "### 1、命令模式 "
   ]
  },
  {
   "cell_type": "markdown",
   "metadata": {},
   "source": [
    "\t• Enter : 转入编辑模式 \n",
    "    Esc: 转入命令模式\n",
    "    • Shift-Enter : 运行本单元，选中下个单元\n",
    "    • Ctrl-Enter : 运行本单元\n",
    "    • Alt-Enter : 运行本单元，在下面插入一单元"
   ]
  },
  {
   "cell_type": "code",
   "execution_count": null,
   "metadata": {
    "ExecuteTime": {
     "end_time": "2023-05-24T13:30:30.907660Z",
     "start_time": "2023-05-24T13:30:30.890705Z"
    }
   },
   "outputs": [],
   "source": [
    "print('hello')"
   ]
  },
  {
   "cell_type": "code",
   "execution_count": null,
   "metadata": {
    "ExecuteTime": {
     "end_time": "2023-05-24T13:30:49.790178Z",
     "start_time": "2023-05-24T13:30:49.784108Z"
    }
   },
   "outputs": [],
   "source": [
    "print('good night')"
   ]
  },
  {
   "cell_type": "code",
   "execution_count": null,
   "metadata": {},
   "outputs": [],
   "source": []
  },
  {
   "cell_type": "markdown",
   "metadata": {},
   "source": [
    "    • Y : 单元转入代码状态\n",
    "\t• M :单元转入markdown状态"
   ]
  },
  {
   "cell_type": "code",
   "execution_count": null,
   "metadata": {},
   "outputs": [],
   "source": []
  },
  {
   "cell_type": "markdown",
   "metadata": {},
   "source": [
    "\t• A : 在上方插入新单元\n",
    "    • B : 在下方插入新单元"
   ]
  },
  {
   "cell_type": "code",
   "execution_count": null,
   "metadata": {},
   "outputs": [],
   "source": [
    "# a= above\n",
    "# b = below "
   ]
  },
  {
   "cell_type": "markdown",
   "metadata": {},
   "source": [
    "### 2、编辑模式 ( Enter 键启动)"
   ]
  },
  {
   "cell_type": "markdown",
   "metadata": {},
   "source": [
    "\t• Tab : 代码补全或缩进\n",
    "    • Shift-Tab : 提示"
   ]
  },
  {
   "cell_type": "code",
   "execution_count": 18,
   "metadata": {},
   "outputs": [
    {
     "data": {
      "text/plain": [
       "4"
      ]
     },
     "execution_count": 18,
     "metadata": {},
     "output_type": "execute_result"
    }
   ],
   "source": [
    "square(2)"
   ]
  },
  {
   "cell_type": "markdown",
   "metadata": {},
   "source": [
    "\t• Ctrl-A : 全选\n",
    "\t• Ctrl-Z : 复原"
   ]
  },
  {
   "cell_type": "code",
   "execution_count": 19,
   "metadata": {
    "ExecuteTime": {
     "end_time": "2023-05-24T12:45:13.775757Z",
     "start_time": "2023-05-24T12:45:13.767779Z"
    },
    "scrolled": true
   },
   "outputs": [
    {
     "data": {
      "text/plain": [
       "\u001b[31mSignature:\u001b[39m add(a, b)\n",
       "\u001b[31mDocstring:\u001b[39m <no docstring>\n",
       "\u001b[31mSource:\u001b[39m   \n",
       "\u001b[38;5;28;01mdef\u001b[39;00m add(a, b):\n",
       "    \u001b[38;5;28;01mreturn\u001b[39;00m a + b\n",
       "\u001b[31mFile:\u001b[39m      c:\\users\\wangx\\appdata\\local\\temp\\ipykernel_12172\\1153468095.py\n",
       "\u001b[31mType:\u001b[39m      function"
      ]
     },
     "metadata": {},
     "output_type": "display_data"
    }
   ],
   "source": [
    "add??"
   ]
  },
  {
   "cell_type": "code",
   "execution_count": null,
   "metadata": {},
   "outputs": [],
   "source": []
  }
 ],
 "metadata": {
  "anaconda-cloud": {},
  "kernelspec": {
   "display_name": "Python 3 (ipykernel)",
   "language": "python",
   "name": "python3"
  },
  "language_info": {
   "codemirror_mode": {
    "name": "ipython",
    "version": 3
   },
   "file_extension": ".py",
   "mimetype": "text/x-python",
   "name": "python",
   "nbconvert_exporter": "python",
   "pygments_lexer": "ipython3",
   "version": "3.12.5"
  },
  "toc": {
   "base_numbering": 1,
   "nav_menu": {},
   "number_sections": true,
   "sideBar": true,
   "skip_h1_title": false,
   "title_cell": "Table of Contents",
   "title_sidebar": "Contents",
   "toc_cell": false,
   "toc_position": {},
   "toc_section_display": true,
   "toc_window_display": false
  }
 },
 "nbformat": 4,
 "nbformat_minor": 4
}
