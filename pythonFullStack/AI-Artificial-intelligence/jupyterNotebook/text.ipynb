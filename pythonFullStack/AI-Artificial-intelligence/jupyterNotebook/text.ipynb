{
 "cells": [
  {
   "cell_type": "code",
   "execution_count": 15,
   "id": "8922f7af-31ba-4a7f-8a05-4cd94e16f191",
   "metadata": {},
   "outputs": [
    {
     "name": "stdout",
     "output_type": "stream",
     "text": [
      "3.23 μs ± 252 ns per loop (mean ± std. dev. of 7 runs, 100,000 loops each)\n"
     ]
    },
    {
     "data": {
      "text/plain": [
       "[]"
      ]
     },
     "execution_count": 15,
     "metadata": {},
     "output_type": "execute_result"
    }
   ],
   "source": [
    "%timeit sum(i for i in range(100))\n",
    "%who_ls"
   ]
  },
  {
   "cell_type": "code",
   "execution_count": 9,
   "id": "4071eb0a-4ef0-42d5-bc42-03088a0de237",
   "metadata": {
    "scrolled": true
   },
   "outputs": [
    {
     "name": "stdout",
     "output_type": "stream",
     "text": [
      "Interactive namespace is empty.\n"
     ]
    }
   ],
   "source": [
    "%who"
   ]
  },
  {
   "cell_type": "code",
   "execution_count": 13,
   "id": "6c2028bc-5290-4ab7-b0f4-226b9830aef7",
   "metadata": {},
   "outputs": [
    {
     "name": "stdout",
     "output_type": "stream",
     "text": [
      " 驱动器 D 中的卷是 Data\n",
      " 卷的序列号是 5432-1790\n",
      "\n",
      " D:\\python__study\\111 的目录\n",
      "\n",
      "2025/06/04  20:51    <DIR>          .\n",
      "2025/06/02  10:00    <DIR>          ..\n",
      "2025/04/29  15:16    <DIR>          .idea\n",
      "2025/06/04  20:41    <DIR>          .ipynb_checkpoints\n",
      "2025/04/14  11:42    <DIR>          day01\n",
      "2025/04/15  16:32    <DIR>          day03_numpy(二)\n",
      "2025/04/15  16:31    <DIR>          day04_numpy(三)(1)\n",
      "2025/04/15  17:29    <DIR>          day05_pandas(一)\n",
      "2025/04/18  13:53    <DIR>          day06_pandas(二)\n",
      "2025/04/20  13:18    <DIR>          day07_pandas(三)\n",
      "2025/04/22  10:10    <DIR>          day08_pandas(四)\n",
      "2025/04/24  09:45    <DIR>          day09_pandas(五)\n",
      "2025/04/25  15:01    <DIR>          day10_pandas(六)\n",
      "2025/04/28  12:37    <DIR>          day11_pandas(七)\n",
      "2025/04/29  12:05    <DIR>          day12_matplotlib(一)\n",
      "2025/04/30  15:37    <DIR>          day13_matplotlib(二)\n",
      "2025/05/07  12:29    <DIR>          day14_matplotlib(三)\n",
      "2025/05/08  09:09    <DIR>          day15_matplotlib(四)\n",
      "2025/05/12  10:44    <DIR>          day16_数学(一)\n",
      "2025/05/13  10:07    <DIR>          day17_数学(二)\n",
      "2025/05/26  15:39    <DIR>          day20_KNN\n",
      "2025/05/29  08:47    <DIR>          day21_KNN(二)\n",
      "2025/06/04  13:40    <DIR>          day22_线性回归(一)\n",
      "2025/06/04  12:11    <DIR>          day23_线性回归(二)\n",
      "2025/04/28  12:38    <DIR>          day24_线性回归(三)\n",
      "2025/04/15  09:37        45,395,242 day25_线性回归(四).rar\n",
      "2025/04/15  09:36         7,013,106 day26_岭回归和lasso回归(四).rar\n",
      "2025/04/28  19:17    <DIR>          day27_逻辑回归(二)\n",
      "2025/04/15  09:36        20,522,540 day27_逻辑回归(二).rar\n",
      "2025/04/15  09:36         4,727,421 day28_逻辑回归(三).rar\n",
      "2025/04/15  09:36        10,276,892 day29_决策树.rar\n",
      "2025/04/15  09:36        26,468,265 day30_决策树(二).rar\n",
      "2025/04/15  09:36         2,389,647 day31_决策树(三).rar\n",
      "2025/04/15  09:36        14,202,029 day32_朴素贝叶斯.rar\n",
      "2025/04/15  09:36         2,951,199 day33_朴素贝叶斯(二).rar\n",
      "2025/04/15  09:36        30,152,764 day34_SVM.rar\n",
      "2025/04/15  09:36        31,875,875 day35_SVM(二).rar\n",
      "2025/04/15  09:35        31,611,080 day36_聚类算法.rar\n",
      "2025/04/15  09:37       255,776,463 day37_交叉验证和网格搜索.rar\n",
      "2025/04/15  09:37       457,892,502 day38_网格搜索和特征工程.rar\n",
      "2025/04/15  09:36        92,472,468 day39_特征工程和评估指标.rar\n",
      "2025/04/15  09:35           254,033 day40_roc曲线和评估指标.rar\n",
      "2025/04/15  09:35           286,798 day41_泰坦尼克号项目.rar\n",
      "2025/04/15  09:35           330,584 day42_泰坦尼克号项目(二).rar\n",
      "2025/04/15  09:36       112,259,398 day43_金融反欺诈(一).rar\n",
      "2025/04/15  09:35         6,464,708 day43_金融反欺诈(二).rar\n",
      "2025/04/15  09:35        29,579,364 day45_深度学习基础.rar\n",
      "2025/04/15  09:35        29,641,417 day46_深度学习进阶.rar\n",
      "2025/04/15  09:35        29,569,040 day47_深度学习进阶(二).rar\n",
      "2025/06/04  20:06    <DIR>          jupyterCode\n",
      "2025/06/04  20:51             1,491 text.ipynb\n",
      "2025/04/18  09:26    <DIR>          win2020-2024版本\n",
      "2025/04/18  09:26         1,997,894 win2020-2024版本.zip\n",
      "2025/05/17  13:34    <DIR>          杀虫剂市场增长点分析挖掘\n",
      "2023/10/23  22:07           109,937 激活函数.ipynb\n",
      "2023/10/23  22:05    <DIR>          课件\n",
      "              26 个文件  1,244,222,157 字节\n",
      "              30 个目录 222,007,222,272 可用字节\n"
     ]
    }
   ],
   "source": [
    "!dir"
   ]
  },
  {
   "cell_type": "code",
   "execution_count": null,
   "id": "9eaf9001-6cd1-46d3-9f6a-f666f42fd4fb",
   "metadata": {},
   "outputs": [],
   "source": []
  }
 ],
 "metadata": {
  "kernelspec": {
   "display_name": "Python 3 (ipykernel)",
   "language": "python",
   "name": "python3"
  },
  "language_info": {
   "codemirror_mode": {
    "name": "ipython",
    "version": 3
   },
   "file_extension": ".py",
   "mimetype": "text/x-python",
   "name": "python",
   "nbconvert_exporter": "python",
   "pygments_lexer": "ipython3",
   "version": "3.12.5"
  }
 },
 "nbformat": 4,
 "nbformat_minor": 5
}
